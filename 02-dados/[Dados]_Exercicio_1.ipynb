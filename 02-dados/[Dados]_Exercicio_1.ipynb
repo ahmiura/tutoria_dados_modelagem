{
 "cells": [
  {
   "cell_type": "markdown",
   "metadata": {},
   "source": [
    "Utilizando esse conjunto de dados:\n",
    "https://www.kaggle.com/datasets/disham993/9000-movies-dataset\n",
    "\n",
    "Responda as seguintes perguntas:\n",
    "\n",
    "1.   Qual tamanho do DataSet?\n",
    "2.   Quantas linhas?\n",
    "3.   Quantas colunas?\n",
    "4.   Qual o tipo de variável de cada coluna?\n",
    "5.   Qual o filme com maior número de votaçôes?\n",
    "6.   Qual filme teve a maior nota (critério de desempate é o filme com mais votos)\n",
    "7.   Existem valores nulos? Se sim, qual tratamento irá realizar? (Se não temos nome de algum filme, melhor nem considerar)\n",
    "8.   Transforme as variaveis categóricas de linguagem e genero em númericas (utilize dummy)\n",
    "9.   Normalize as variaveis numéricas\n",
    "10.  Armazene esses valores como um artefato dentro do MLFlow\n",
    "11. QUais insights é possivel obter desses dados?\n",
    "\n"
   ]
  },
  {
   "cell_type": "code",
   "execution_count": null,
   "metadata": {
    "vscode": {
     "languageId": "plaintext"
    }
   },
   "outputs": [],
   "source": [
    "import pandas as pd\n",
    "import numpy as np\n",
    "\n",
    "# Gerenciamento de experimentos com MLflow\n",
    "import mlflow\n",
    "\n",
    "# Download do dataset de filmes do Kaggle\n",
    "#!kaggle datasets download -d disham993/9000-movies-dataset -p ./movies_dataset\n",
    "\n",
    "# Descompactar o arquivo baixado\n",
    "#!unzip -o ./movies_dataset/9000-movies-dataset.zip -d ./movies_dataset\n",
    "\n",
    "\n",
    "# Carregar o dataset de filmes usando o motor 'python' para evitar o ParserError\n",
    "try:\n",
    "    df = pd.read_csv(\"./movies_dataset/mymoviedb.csv\", engine='python')\n",
    "    print(\"O dataset foi importado com sucesso!\")\n",
    "\n",
    "    # Obter o número de linhas e colunas do DataFrame\n",
    "    numero_linhas, numero_colunas = df.shape\n",
    "    print(f\"O dataset tem {numero_linhas} linhas\")\n",
    "    print(f\"O dataset tem {numero_colunas} colunas.\")\n",
    "\n",
    "    colunas_object= df.select_dtypes(include=['object'])\n",
    "    colunas_int64 = df.select_dtypes(include=['int64'])\n",
    "    colunas_outrotipo = df.select_dtypes(exclude=['object', 'int64'])\n",
    "    print(f\"As colunas do tipo 'object' são: {colunas_object.columns.tolist()}\")\n",
    "    print(f\"As colunas do tipo 'int64' são: {colunas_int64.columns.tolist()}\")\n",
    "    print(f\"As colunas de outro tipo são: {colunas_outrotipo.columns.tolist()}\")\n",
    "    \n",
    "except Exception as e:\n",
    "    print(f\"Ocorreu um erro ao carregar o CSV: {e}\")\n",
    "    print(\"Verifique se o arquivo 'mymoviedb.csv' existe no diretório './movies_dataset' e não está corrompido.\")\n"
   ]
  }
 ],
 "metadata": {
  "language_info": {
   "name": "python"
  }
 },
 "nbformat": 4,
 "nbformat_minor": 2
}
