{
 "cells": [
  {
   "cell_type": "markdown",
   "metadata": {},
   "source": [
    "Utilizando esse conjunto de dados:\n",
    "https://www.kaggle.com/datasets/disham993/9000-movies-dataset\n",
    "\n",
    "Responda as seguintes perguntas:"
   ]
  },
  {
   "cell_type": "code",
   "execution_count": 1,
   "metadata": {},
   "outputs": [
    {
     "name": "stdout",
     "output_type": "stream",
     "text": [
      "O dataset foi importado com sucesso!\n"
     ]
    }
   ],
   "source": [
    "import pandas as pd\n",
    "import numpy as np\n",
    "\n",
    "# Gerenciamento de experimentos com MLflow\n",
    "import mlflow\n",
    "\n",
    "# Download do dataset de filmes do Kaggle\n",
    "#!kaggle datasets download -d disham993/9000-movies-dataset -p ./movies_dataset\n",
    "\n",
    "# Descompactar o arquivo baixado\n",
    "#!unzip -o ./movies_dataset/9000-movies-dataset.zip -d ./movies_dataset\n",
    "\n",
    "try:\n",
    "    df = pd.read_csv(\"./movies_dataset/mymoviedb.csv\", engine='python')\n",
    "    print(\"O dataset foi importado com sucesso!\")\n",
    "\n",
    "except Exception as e:\n",
    "    print(f\"Ocorreu um erro ao carregar o CSV: {e}\")\n",
    "    print(\"Verifique se o arquivo 'mymoviedb.csv' existe no diretório './movies_dataset' e não está corrompido.\")\n"
   ]
  },
  {
   "cell_type": "markdown",
   "metadata": {},
   "source": [
    "1.   Qual tamanho do DataSet?\n",
    "2.   Quantas linhas?\n",
    "3.   Quantas colunas?\n",
    "4.   Qual o tipo de variável de cada coluna?\n",
    "5.   Qual o filme com maior número de votaçôes?"
   ]
  },
  {
   "cell_type": "code",
   "execution_count": null,
   "metadata": {},
   "outputs": [
    {
     "name": "stdout",
     "output_type": "stream",
     "text": [
      "O dataset tem 9837 linhas\n",
      "O dataset tem 9 colunas.\n",
      "\n",
      "--- Tipos de variáveis ---\n",
      "Release_Date          object\n",
      "Title                 object\n",
      "Overview              object\n",
      "Popularity           float64\n",
      "Vote_Count           float64\n",
      "Vote_Average          object\n",
      "Original_Language     object\n",
      "Genre                 object\n",
      "Poster_Url            object\n",
      "dtype: object\n",
      "\n",
      "Filme com maior número de votos:\n",
      "Title           Inception\n",
      "Vote_Count        31077.0\n",
      "Vote_Average          8.4\n",
      "Name: 380, dtype: object\n"
     ]
    }
   ],
   "source": [
    "\n",
    "# Obter o número de linhas e colunas do DataFrame\n",
    "numero_linhas, numero_colunas = df.shape\n",
    "print(f\"O dataset tem {numero_linhas} linhas\")\n",
    "print(f\"O dataset tem {numero_colunas} colunas.\")\n",
    "\n",
    "print(\"\\n--- Tipos de variáveis ---\")\n",
    "print(df.dtypes)\n",
    "\n",
    "\n",
    "# Converter a coluna 'vote_count' para numérica, forçando erros a NaN\n",
    "df['Vote_Count'] = pd.to_numeric(df['Vote_Count'], errors='coerce')\n",
    "\n",
    "# Identificar o filme com maior número de votos\n",
    "indice_max_votos = df['Vote_Count'].idxmax()\n",
    "filme_mais_votado = df.loc[indice_max_votos]\n",
    "print(\"\\nFilme com maior número de votos:\")\n",
    "print(filme_mais_votado[['Title', 'Vote_Count', 'Vote_Average']])"
   ]
  },
  {
   "cell_type": "markdown",
   "metadata": {},
   "source": [
    "\n",
    "6.   Qual filme teve a maior nota (critério de desempate é o filme com mais votos)\n",
    "7.   Existem valores nulos? Se sim, qual tratamento irá realizar? (Se não temos nome de algum filme, melhor nem considerar)\n",
    "8.   Transforme as variaveis categóricas de linguagem e genero em númericas (utilize dummy)\n",
    "9.   Normalize as variaveis numéricas\n",
    "10.  Armazene esses valores como um artefato dentro do MLFlow\n",
    "11. QUais insights é possivel obter desses dados?"
   ]
  },
  {
   "cell_type": "code",
   "execution_count": null,
   "metadata": {},
   "outputs": [],
   "source": [
    "# Carregar o dataset de filmes usando o motor 'python' para evitar o ParserError\n",
    "try:\n",
    "    df = pd.read_csv(\"./movies_dataset/mymoviedb.csv\", engine='python')\n",
    "    print(\"O dataset foi importado com sucesso!\")\n",
    "\n",
    "    # Obter o número de linhas e colunas do DataFrame\n",
    "    numero_linhas, numero_colunas = df.shape\n",
    "    print(f\"O dataset tem {numero_linhas} linhas\")\n",
    "    print(f\"O dataset tem {numero_colunas} colunas.\")\n",
    "\n",
    "    colunas_object= df.select_dtypes(include=['object'])\n",
    "    colunas_int64 = df.select_dtypes(include=['int64'])\n",
    "    colunas_outrotipo = df.select_dtypes(exclude=['object', 'int64'])\n",
    "    print(f\"As colunas do tipo 'object' são: {colunas_object.columns.tolist()}\")\n",
    "    print(f\"As colunas do tipo 'int64' são: {colunas_int64.columns.tolist()}\")\n",
    "    print(f\"As colunas de outro tipo são: {colunas_outrotipo.columns.tolist()}\")\n",
    "    \n",
    "except Exception as e:\n",
    "    print(f\"Ocorreu um erro ao carregar o CSV: {e}\")\n",
    "    print(\"Verifique se o arquivo 'mymoviedb.csv' existe no diretório './movies_dataset' e não está corrompido.\")\n"
   ]
  },
  {
   "cell_type": "markdown",
   "metadata": {},
   "source": []
  },
  {
   "cell_type": "code",
   "execution_count": 2,
   "metadata": {},
   "outputs": [
    {
     "name": "stdout",
     "output_type": "stream",
     "text": [
      "Index(['Release_Date', 'Title', 'Overview', 'Popularity', 'Vote_Count',\n",
      "       'Vote_Average', 'Original_Language', 'Genre', 'Poster_Url'],\n",
      "      dtype='object')\n"
     ]
    }
   ],
   "source": [
    "print(df.columns)"
   ]
  }
 ],
 "metadata": {
  "kernelspec": {
   "display_name": ".venv",
   "language": "python",
   "name": "python3"
  },
  "language_info": {
   "codemirror_mode": {
    "name": "ipython",
    "version": 3
   },
   "file_extension": ".py",
   "mimetype": "text/x-python",
   "name": "python",
   "nbconvert_exporter": "python",
   "pygments_lexer": "ipython3",
   "version": "3.13.5"
  }
 },
 "nbformat": 4,
 "nbformat_minor": 2
}
